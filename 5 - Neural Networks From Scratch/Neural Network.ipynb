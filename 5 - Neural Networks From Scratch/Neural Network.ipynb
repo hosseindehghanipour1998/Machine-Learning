{
 "cells": [
  {
   "cell_type": "code",
   "execution_count": 7,
   "metadata": {},
   "outputs": [],
   "source": [
    "# Import Necessary Libraries\n",
    "import numpy as np\n",
    "np.random.seed(0)\n",
    "\n",
    "class Layer_Dense :\n",
    "    \n",
    "    def __init__(self, n_inputs , n_neurons):\n",
    "        self.weights = 0.10 * np.random.randn(n_inputs , n_neurons)\n",
    "        # in order to ignore the trnaspose , shape = (n_inputs , n_neurons) instead of (n_neurons , n_inputs)\n",
    "        self.biases = np.zeros((1,n_neurons))\n",
    "    \n",
    "    def forward(self,inputs):\n",
    "        \n",
    "        self.output = np.dot(inputs,self.weights) + self.biases\n",
    "        "
   ]
  },
  {
   "cell_type": "code",
   "execution_count": 11,
   "metadata": {},
   "outputs": [
    {
     "name": "stdout",
     "output_type": "stream",
     "text": [
      "[[ 0.34620872  0.01439686]\n",
      " [ 0.23609697  0.16607072]\n",
      " [ 0.15992788 -0.08317102]]\n"
     ]
    }
   ],
   "source": [
    "X = [\n",
    "    [1.0,2.0,3.0,2.5],\n",
    "    [2.0,5.0,1.0,2.0],\n",
    "    [-1.5,2.7,3.3,-0.8]\n",
    "]\n",
    "\n",
    "layer1 = Layer_Dense(4,5)\n",
    "layer2 = Layer_Dense(5,2)\n",
    "\n",
    "layer1.forward(X)\n",
    "layer2.forward(layer1.output)\n",
    "print(layer2.output)"
   ]
  },
  {
   "cell_type": "markdown",
   "metadata": {},
   "source": [
    "## Activation Function"
   ]
  },
  {
   "cell_type": "code",
   "execution_count": 12,
   "metadata": {},
   "outputs": [],
   "source": [
    "# pip install nnfs\n",
    "# pip --update nnfs\n",
    "# form nnfs.datasets import spiral_data\n",
    "\n",
    "\n",
    "# Spirtal Data is a function that creates a data set.\n",
    "def spiral_data(points, classes):\n",
    "    X = np.zeros((points*classes, 2))\n",
    "    y = np.zeros(points*classes, dtype='uint8')\n",
    "    for class_number in range(classes):\n",
    "        ix = range(points*class_number, points*(class_number+1))\n",
    "        r = np.linspace(0.0, 1, points)  # radius\n",
    "        t = np.linspace(class_number*4, (class_number+1)*4, points) + np.random.randn(points)*0.2\n",
    "        X[ix] = np.c_[r*np.sin(t*2.5), r*np.cos(t*2.5)]\n",
    "        y[ix] = class_number\n",
    "    return X, y\n",
    "\n",
    "X,y = spiral_data(100,3)\n"
   ]
  },
  {
   "cell_type": "code",
   "execution_count": 22,
   "metadata": {},
   "outputs": [],
   "source": [
    "class Activation_ReLU :\n",
    "    def forward(self,inputs):\n",
    "        self.output = np.maximum(0,inputs)\n",
    "\n",
    "        \n",
    "layer1 = Layer_Dense(2,5) \n",
    "activation1 = Activation_ReLU()\n",
    "\n",
    "layer1.forward(X)\n",
    "activation1.forward(layer1.output)"
   ]
  },
  {
   "cell_type": "code",
   "execution_count": 23,
   "metadata": {},
   "outputs": [
    {
     "name": "stdout",
     "output_type": "stream",
     "text": [
      "[[0.00000000e+00 0.00000000e+00 0.00000000e+00 0.00000000e+00\n",
      "  0.00000000e+00]\n",
      " [1.42326175e-04 0.00000000e+00 0.00000000e+00 4.68992619e-07\n",
      "  2.70978568e-04]\n",
      " [0.00000000e+00 8.03974474e-05 0.00000000e+00 3.83881884e-04\n",
      "  0.00000000e+00]\n",
      " ...\n",
      " [1.50486951e-01 0.00000000e+00 8.86173059e-02 0.00000000e+00\n",
      "  1.36829637e-01]\n",
      " [6.29320401e-02 0.00000000e+00 0.00000000e+00 0.00000000e+00\n",
      "  6.82887989e-02]\n",
      " [3.17341326e-02 0.00000000e+00 0.00000000e+00 0.00000000e+00\n",
      "  4.20203446e-02]]\n"
     ]
    }
   ],
   "source": [
    "print(activation1.output)"
   ]
  },
  {
   "cell_type": "code",
   "execution_count": null,
   "metadata": {},
   "outputs": [],
   "source": []
  }
 ],
 "metadata": {
  "kernelspec": {
   "display_name": "Python 3",
   "language": "python",
   "name": "python3"
  },
  "language_info": {
   "codemirror_mode": {
    "name": "ipython",
    "version": 3
   },
   "file_extension": ".py",
   "mimetype": "text/x-python",
   "name": "python",
   "nbconvert_exporter": "python",
   "pygments_lexer": "ipython3",
   "version": "3.7.3"
  }
 },
 "nbformat": 4,
 "nbformat_minor": 4
}
